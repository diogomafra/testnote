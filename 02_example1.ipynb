{
 "cells": [
  {
   "cell_type": "markdown",
   "metadata": {},
   "source": [
    "# Some example\n",
    "\n",
    "> This is an example"
   ]
  },
  {
   "cell_type": "code",
   "execution_count": null,
   "metadata": {},
   "outputs": [
    {
     "name": "stdout",
     "output_type": "stream",
     "text": "The autoreload extension is already loaded. To reload it, use:\n  %reload_ext autoreload\n"
    }
   ],
   "source": [
    "# hide\n",
    "# enable autoreload\n",
    "%load_ext autoreload\n",
    "%autoreload 2"
   ]
  },
  {
   "cell_type": "code",
   "execution_count": null,
   "metadata": {},
   "outputs": [],
   "source": [
    "from testnote import data"
   ]
  },
  {
   "cell_type": "code",
   "execution_count": null,
   "metadata": {},
   "outputs": [
    {
     "data": {
      "text/plain": "[1, 2, 3, 4, 5, 6, 7, 8, 9, 10, 11]"
     },
     "execution_count": null,
     "metadata": {},
     "output_type": "execute_result"
    }
   ],
   "source": [
    "data.get_months()"
   ]
  },
  {
   "cell_type": "code",
   "execution_count": null,
   "metadata": {},
   "outputs": [
    {
     "data": {
      "text/plain": "['Ozzy', 'Tony', 'Geezer', 'Bill']"
     },
     "execution_count": null,
     "metadata": {},
     "output_type": "execute_result"
    }
   ],
   "source": [
    "data.get_names()"
   ]
  },
  {
   "cell_type": "markdown",
   "metadata": {},
   "source": [
    "Here's some code using the shared functions"
   ]
  },
  {
   "cell_type": "code",
   "execution_count": null,
   "metadata": {},
   "outputs": [
    {
     "name": "stdout",
     "output_type": "stream",
     "text": "Ozzy - 1\nOzzy - 2\nOzzy - 3\nOzzy - 4\nOzzy - 5\nOzzy - 6\nOzzy - 7\nOzzy - 8\nOzzy - 9\nOzzy - 10\nOzzy - 11\nTony - 1\nTony - 2\nTony - 3\nTony - 4\nTony - 5\nTony - 6\nTony - 7\nTony - 8\nTony - 9\nTony - 10\nTony - 11\nGeezer - 1\nGeezer - 2\nGeezer - 3\nGeezer - 4\nGeezer - 5\nGeezer - 6\nGeezer - 7\nGeezer - 8\nGeezer - 9\nGeezer - 10\nGeezer - 11\nBill - 1\nBill - 2\nBill - 3\nBill - 4\nBill - 5\nBill - 6\nBill - 7\nBill - 8\nBill - 9\nBill - 10\nBill - 11\n"
    }
   ],
   "source": [
    "for name in data.get_names():\n",
    "    for month in data.get_months():\n",
    "        print(f\"{name} - {month}\")\n"
   ]
  },
  {
   "cell_type": "code",
   "execution_count": null,
   "metadata": {},
   "outputs": [],
   "source": []
  }
 ],
 "metadata": {
  "kernelspec": {
   "display_name": "Python 3.6.1 64-bit ('env': venv)",
   "name": "python36164bitenvvenv5ed069fb11d5433d9d9988a83a718c28"
  }
 },
 "nbformat": 4,
 "nbformat_minor": 2
}
